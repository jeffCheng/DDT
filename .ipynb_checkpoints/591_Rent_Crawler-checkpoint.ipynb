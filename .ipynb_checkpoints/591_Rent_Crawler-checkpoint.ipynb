{
 "cells": [
  {
   "cell_type": "code",
   "execution_count": 77,
   "metadata": {
    "collapsed": true
   },
   "outputs": [],
   "source": [
    "import json\n",
    "from bs4 import BeautifulSoup\n",
    "import requests\n",
    "import pandas as pd\n",
    "from pymongo import MongoClient"
   ]
  },
  {
   "cell_type": "code",
   "execution_count": 84,
   "metadata": {
    "collapsed": true
   },
   "outputs": [],
   "source": [
    "# Mongodb Client\n",
    "def mongo_base(host,port,database,table,data):\n",
    "    client = MongoClient(host, port)\n",
    "    db=client[database]\n",
    "    rent = db[table]\n",
    "    rent.insert_many(json.loads(data.T.to_json()).values())"
   ]
  },
  {
   "cell_type": "code",
   "execution_count": 88,
   "metadata": {
    "collapsed": true
   },
   "outputs": [],
   "source": [
    "# get total_count\n",
    "cookies = \"webp=1; PHPSESSID=gdjh67ehetup773aha4rqtsh23; T591_TOKEN=gdjh67ehetup773aha4rqtsh23; _ga=GA1.3.2075565203.1621857871; _gid=GA1.3.726406820.1621857871; _ga=GA1.4.2075565203.1621857871; _gid=GA1.4.726406820.1621857871; tw591__privacy_agree=0; _fbp=fb.2.1621857872952.1207424375; new_rent_list_kind_test=0; user_index_role=1; __auc=d207d3651799e5ea7167b05ec29; localTime=2; imgClick=10837387; __utmc=82835026; __utmz=82835026.1621865620.1.1.utmcsr=(direct)|utmccn=(direct)|utmcmd=(none); is_new_index=1; is_new_index_redirect=1; __utma=82835026.2075565203.1621857871.1621868451.1621918305.3; DETAIL[1][10918147]=1; DETAIL[1][10893408]=1; user_browse_recent=a%3A5%3A%7Bi%3A0%3Ba%3A2%3A%7Bs%3A4%3A%22type%22%3Bi%3A1%3Bs%3A7%3A%22post_id%22%3Bs%3A8%3A%2210893408%22%3B%7Di%3A1%3Ba%3A2%3A%7Bs%3A4%3A%22type%22%3Bi%3A1%3Bs%3A7%3A%22post_id%22%3Bs%3A8%3A%2210918147%22%3B%7Di%3A2%3Ba%3A2%3A%7Bs%3A4%3A%22type%22%3Bi%3A1%3Bs%3A7%3A%22post_id%22%3Bs%3A8%3A%2210937793%22%3B%7Di%3A3%3Ba%3A2%3A%7Bs%3A4%3A%22type%22%3Bi%3A1%3Bs%3A7%3A%22post_id%22%3Bs%3A8%3A%2210710567%22%3B%7Di%3A4%3Ba%3A2%3A%7Bs%3A4%3A%22type%22%3Bi%3A1%3Bs%3A7%3A%22post_id%22%3Bs%3A8%3A%2210836244%22%3B%7D%7D; __asc=47690f70179a93206964c3984c6; _gat_UA-97423186-1=1; _gat=1; _gat_testUA=1; _gat_rentDetail=1; _gat_rentNew=1; _dc_gtm_UA-97423186-1=1; XSRF-TOKEN=eyJpdiI6ImRzT1dyRDQ0VFkzZVVqWkpJaTN2Y0E9PSIsInZhbHVlIjoiT0hcL0RcL21ab0w2SXFzZHFJT2dxN2hHV1VBTjdvcWNwdHdJdW95NmZMemZteVpuZU5xb1BaNGRZXC9GMkdIcTdLQ0NSYTJLM0kzWkxycyt6Qnd1eGNHdkE9PSIsIm1hYyI6ImMzNDMxZTUwODE3YjExOGQ0ZDY3NGM2MjcyMDk2YTUxYjNkZThjYmEzNGVkYzY3YmI0NjE5NzgwNDFjNDgwMGEifQ%3D%3D; 591_new_session=eyJpdiI6InFvRVpJUkpmMVNXXC80VnhiV1M1bGVRPT0iLCJ2YWx1ZSI6Ims2VThcL2pkejlYUHBvRzV5Z2VFakhRQkRpSVJXQ3VSaFpVeVF3cUE1Q1wvb2pcL0JwYXNxS3FwNVdjdzBIMnhZeTg5Q1h2YlU3YXkrMGsrREdFMHYzc29nPT0iLCJtYWMiOiI2NDQxZmIwNzJlMDRmNzZjNGM2MWY5MDY2OTA0OTQwOTE0YTQ2NDI3YzFmNDY5NzQ2ZDJhZThhMTlhMjRhYmIxIn0%3D; urlJumpIp=3; urlJumpIpByTxt=%E6%96%B0%E5%8C%97%E5%B8%82\"\n",
    "csrf_token = \"NEvIxy4Z9E5x7gJ0kl3UI78RU124iVWYlW61TubM\"\n",
    "response = requests.get('https://rent.591.com.tw/home/search/rsList?is_new_list=1&type=1&kind=0&searchtype=1&region=3&firstRow=0', \n",
    "                  headers={\"X-CSRF-TOKEN\":csrf_token,\"Cookie\":cookies})\n",
    "total_count = response.json()['records'].replace(',', '')"
   ]
  },
  {
   "cell_type": "code",
   "execution_count": 89,
   "metadata": {
    "collapsed": true
   },
   "outputs": [],
   "source": [
    "linkmans =[]#出租者\n",
    "nick_names = []#身分\n",
    "type_names =[]#型態\n",
    "phone_numbers = []#電話\n",
    "kind_names = []#現況\n",
    "genders =[]#性別要求\n",
    "url_ids=[]\n",
    "region_names =[]"
   ]
  },
  {
   "cell_type": "code",
   "execution_count": 90,
   "metadata": {
    "collapsed": true
   },
   "outputs": [],
   "source": [
    "def parse_rent_object(post_id):\n",
    "    response = requests.get(\"https://rent.591.com.tw/rent-detail-\"+str(post_id)+\".html\")\n",
    "    soup = BeautifulSoup(response.text, \"html.parser\")\n",
    "    \n",
    "    phone_number = ''\n",
    "    type_name = ''\n",
    "    gender = 2\n",
    "    try:\n",
    "        # get Phone Number\n",
    "        phone_number = soup.find(\"span\", {\"class\": \"dialPhoneNum\"})['data-value']\n",
    "        if phone_number == '':\n",
    "            phone_number = soup.find(\"div\", {\"class\": \"hidtel\"}).getText().strip()\n",
    "            phone_number = phone_number.replace('-', '')\n",
    "    except:\n",
    "        pass\n",
    "    try:\n",
    "        # get 型態\n",
    "        elements = soup.find(\"div\", {\"class\": \"detailInfo clearfix\"}).find(\"ul\", {\"class\": \"attr\"}).find_all('li')\n",
    "        for element in elements:\n",
    "            if element.getText().strip()[0:2] == '型態':\n",
    "                type_name = element.getText().strip().split(\":\")[1].strip()\n",
    "                break\n",
    "    except:\n",
    "        pass\n",
    "    try:\n",
    "        # gender 性別要求\n",
    "        gender_dict = {\"女生\":0,\"男生\":1,\"男女生皆可\":2}\n",
    "        gender = \"男女生皆可\"\n",
    "        elements = soup.find(\"ul\", {\"class\": \"clearfix labelList labelList-1\"}).find_all('li', {\"class\": \"clearfix\"})\n",
    "        for element in elements:\n",
    "            if element.find(\"div\", {\"class\": \"one\"}).getText().strip() == '性別要求':\n",
    "                gender = element.find(\"div\", {\"class\": \"two\"}).find(\"em\").getText().strip()\n",
    "                break\n",
    "    except:\n",
    "        pass\n",
    "    phone_numbers.append(phone_number)\n",
    "    genders.append(gender_dict[gender]) \n",
    "    type_names.append(type_name) \n",
    "    "
   ]
  },
  {
   "cell_type": "code",
   "execution_count": 91,
   "metadata": {
    "collapsed": true
   },
   "outputs": [],
   "source": [
    "# response.json()['data']['data']\n",
    "# print(int(total_count))\n",
    "for x in range(0, int(total_count), 30):\n",
    "    url = 'https://rent.591.com.tw/home/search/rsList?is_new_list=1&type=1&kind=0&searchtype=1&region=0&firstRow='+str(x)\n",
    "    response = requests.get(url, \n",
    "                  headers={\"X-CSRF-TOKEN\":csrf_token,\"Cookie\":cookies})\n",
    "    data = response.json()['data']['data']\n",
    "    for i in range(30):\n",
    "        linkmans.append(data[i]['linkman'])\n",
    "        nick_names.append(data[i]['nick_name'].split(\" \")[0])\n",
    "        kind_names.append(data[i]['kind_name'])\n",
    "        url_ids.append(data[i]['post_id'])\n",
    "        region_names.append(data[i]['region_name'])\n",
    "        parse_rent_object(data[i]['post_id'])"
   ]
  },
  {
   "cell_type": "code",
   "execution_count": 92,
   "metadata": {
    "collapsed": true
   },
   "outputs": [],
   "source": [
    "data = pd.concat([pd.DataFrame({'linkman': linkmans}), pd.DataFrame({'nick_name':nick_names}), pd.DataFrame({'type_name':type_names}), \n",
    "         pd.DataFrame({'kind_name':kind_names}), pd.DataFrame({'phone_number':phone_numbers}), pd.DataFrame({'gender':genders}), pd.DataFrame({'url_id':url_ids}), pd.DataFrame({'region_name':region_names})], axis=1)"
   ]
  },
  {
   "cell_type": "code",
   "execution_count": 93,
   "metadata": {
    "collapsed": true
   },
   "outputs": [],
   "source": [
    "mongo_base(\"localhost\",27017,\"591\",\"rent\",data)"
   ]
  },
  {
   "cell_type": "code",
   "execution_count": null,
   "metadata": {
    "collapsed": true
   },
   "outputs": [],
   "source": []
  }
 ],
 "metadata": {
  "kernelspec": {
   "display_name": "Python 3",
   "language": "python",
   "name": "python3"
  },
  "language_info": {
   "codemirror_mode": {
    "name": "ipython",
    "version": 3
   },
   "file_extension": ".py",
   "mimetype": "text/x-python",
   "name": "python",
   "nbconvert_exporter": "python",
   "pygments_lexer": "ipython3",
   "version": "3.6.3"
  }
 },
 "nbformat": 4,
 "nbformat_minor": 2
}
